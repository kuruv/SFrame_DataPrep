{
 "cells": [
  {
   "cell_type": "code",
   "execution_count": null,
   "metadata": {
    "collapsed": false
   },
   "outputs": [],
   "source": [
    "import sframe\n",
    "import psycopg2"
   ]
  },
  {
   "cell_type": "code",
   "execution_count": null,
   "metadata": {
    "collapsed": false
   },
   "outputs": [],
   "source": [
    "def OneHotEncoder (srcSFrame, headers, cols ) :\n",
    "    print \"One hot encoding\"\n",
    "    TempSFrame=srcSFrame.copy()\n",
    "    limit=10 # Values occuring less often than limit are removed\n",
    "    for col in cols :\n",
    "        print(col)\n",
    "        colSumm=srcSFrame.groupby(key_columns=col,operations={'count': sframe.aggregate.COUNT()})\n",
    "        colSumm=colSumm.dropna(how='any')\n",
    "        colSumm=colSumm[(colSumm['count'] >= limit)]\n",
    "        oneHot = {}\n",
    "        for i, l in enumerate(list(colSumm[col])):\n",
    "            bits = ['0']*colSumm.num_rows(); bits[i] = '1'\n",
    "            oneHot[l] = ''.join(bits)\n",
    "        headers.extend(map(lambda x: col+\"_\"+x,sorted(oneHot, key=oneHot.__getitem__, reverse=True)))\n",
    "        mapList=[]\n",
    "        for i in oneHot.values(): #I hate this jugaad for making an sframe column that holds lists\n",
    "            mapList.append(list(i)) #Someone please tell me a pythonic way of doing it\n",
    "        colMap=sframe.SFrame([sframe.SArray(oneHot.keys()),sframe.SArray(mapList)])\n",
    "        print(colMap.shape)\n",
    "        print(time.ctime())\n",
    "        TempSFrame=TempSFrame.join(colMap, on={col:'X1'},how='left')\n",
    "        print('Joined')\n",
    "        print(time.ctime())\n",
    "        TempSFrame.rename({'X2': col+\"_OneHot\"})\n",
    "        print('Renamed')\n",
    "        print(time.ctime())\n",
    "        TempSFrame=TempSFrame.unpack(col+\"_OneHot\",na_value='0')\n",
    "        print('Unpack')\n",
    "        print(time.ctime())\n",
    "    TempSFrame.remove_columns(cols)\n",
    "    return TempSFrame"
   ]
  },
  {
   "cell_type": "code",
   "execution_count": null,
   "metadata": {
    "collapsed": false
   },
   "outputs": [],
   "source": [
    "def ToFloat(value):\n",
    "    try:\n",
    "        return float(value)\n",
    "    except:\n",
    "        return 0"
   ]
  },
  {
   "cell_type": "code",
   "execution_count": null,
   "metadata": {
    "collapsed": false
   },
   "outputs": [],
   "source": [
    "def DataPreper (srcSFrame,headers,depColName,contFeatures,categFeatures) :\n",
    "    TempSFrame=sframe.SFrame({depColName:srcSFrame[depColName]}) \n",
    "    print ('Adding continuous features')\n",
    "    for k,c in enumerate(contFeatures) :\n",
    "        print(c)\n",
    "        TempSFrame=TempSFrame.add_column(srcSFrame[c].apply(lambda x: ToFloat(x)))\n",
    "    categHeaders=[]\n",
    "    if len(categFeatures) > 0 :\n",
    "        TempSFrame2=OneHotEncoder(srcSFrame[categFeatures],categHeaders,categFeatures)\n",
    "    TempSFrame=TempSFrame.add_columns(TempSFrame2)\n",
    "    print(TempSFrame.head())\n",
    "    headers.extend([depColName])\n",
    "    headers.extend(contFeatures)\n",
    "    headers.extend(categHeaders)\n",
    "    TempSFrame.rename(dict((v,k) for k,v in enumerate(TempSFrame.column_names())))\n",
    "    print(TempSFrame.head())\n",
    "    return TempSFrame"
   ]
  },
  {
   "cell_type": "code",
   "execution_count": null,
   "metadata": {
    "collapsed": false
   },
   "outputs": [],
   "source": [
    "conn = psycopg2.connect('postgresql://username@serveraddress:port/database')"
   ]
  },
  {
   "cell_type": "code",
   "execution_count": null,
   "metadata": {
    "collapsed": false
   },
   "outputs": [],
   "source": [
    "%%time\n",
    "data01=sframe.SFrame.from_sql(conn, \"select * from tablename\", cursor_arraysize=100000)"
   ]
  },
  {
   "cell_type": "code",
   "execution_count": null,
   "metadata": {
    "collapsed": false
   },
   "outputs": [],
   "source": [
    "#data01.save('data01')"
   ]
  },
  {
   "cell_type": "code",
   "execution_count": null,
   "metadata": {
    "collapsed": false
   },
   "outputs": [],
   "source": [
    "#data01 = sframe.load_sframe('data01')"
   ]
  },
  {
   "cell_type": "code",
   "execution_count": null,
   "metadata": {
    "collapsed": false
   },
   "outputs": [],
   "source": [
    "data01.shape"
   ]
  },
  {
   "cell_type": "code",
   "execution_count": null,
   "metadata": {
    "collapsed": false
   },
   "outputs": [],
   "source": [
    "#data01.head"
   ]
  },
  {
   "cell_type": "code",
   "execution_count": null,
   "metadata": {
    "collapsed": false
   },
   "outputs": [],
   "source": [
    "%%time\n",
    "headers=[]\n",
    "data02=DataPreper(data01,headers,'DependentCol',['ContinuousCol1','ContinuousCol2'],['CategoricalCol1','CategoricalCol2'])"
   ]
  },
  {
   "cell_type": "code",
   "execution_count": null,
   "metadata": {
    "collapsed": true
   },
   "outputs": [],
   "source": [
    "#data02.save('data02')"
   ]
  },
  {
   "cell_type": "code",
   "execution_count": null,
   "metadata": {
    "collapsed": true
   },
   "outputs": [],
   "source": [
    "#data02 = sframe.load_sframe('data02')"
   ]
  },
  {
   "cell_type": "code",
   "execution_count": null,
   "metadata": {
    "collapsed": false,
    "scrolled": true
   },
   "outputs": [],
   "source": [
    "%%time\n",
    "array03= data02.apply(lambda x: sorted({int(k1):float(v1) for k1,v1 in x.iteritems() if v1!=None}.iteritems()))"
   ]
  },
  {
   "cell_type": "code",
   "execution_count": null,
   "metadata": {
    "collapsed": false
   },
   "outputs": [],
   "source": [
    "%%time\n",
    "array03.materialize()"
   ]
  },
  {
   "cell_type": "code",
   "execution_count": null,
   "metadata": {
    "collapsed": false
   },
   "outputs": [],
   "source": [
    "%%time\n",
    "array03.save('XGB_Data', format='text')"
   ]
  },
  {
   "cell_type": "code",
   "execution_count": null,
   "metadata": {
    "collapsed": false
   },
   "outputs": [],
   "source": [
    "%%time\n",
    "!sed -e 's/^.\\{5\\}//g' -e 's/ /:/g' -e 's/,/ /g' -e 's/\"//g' -e 's/]//g' -e 's/[[]//g' XGB_Data > XGB_Data.libsvm"
   ]
  },
  {
   "cell_type": "code",
   "execution_count": null,
   "metadata": {
    "collapsed": false
   },
   "outputs": [],
   "source": [
    "headers"
   ]
  }
 ],
 "metadata": {
  "anaconda-cloud": {},
  "kernelspec": {
   "display_name": "Python [conda env:vk_env01]",
   "language": "python",
   "name": "conda-env-vk_env01-py"
  },
  "language_info": {
   "codemirror_mode": {
    "name": "ipython",
    "version": 2
   },
   "file_extension": ".py",
   "mimetype": "text/x-python",
   "name": "python",
   "nbconvert_exporter": "python",
   "pygments_lexer": "ipython2",
   "version": "2.7.12"
  }
 },
 "nbformat": 4,
 "nbformat_minor": 0
}
